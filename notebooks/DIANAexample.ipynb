{
 "cells": [
  {
   "cell_type": "markdown",
   "metadata": {},
   "source": [
    "# Example notebook to show some features of prodimopy\n",
    "\n",
    "If you launched this notebook via a binder url please note that all data is lost after the end of the session.\n",
    "However, like in any notebook you can download the files."
   ]
  },
  {
   "cell_type": "code",
   "execution_count": null,
   "metadata": {},
   "outputs": [],
   "source": [
    "%matplotlib inline\n",
    "import urllib.request\n",
    "import tarfile\n",
    "\n",
    "# module to read a ProDimo model\n",
    "import prodimopy.read as pread\n",
    "# module for plotting a ProDiMo model\n",
    "import prodimopy.plot as pplot\n",
    "\n",
    "import matplotlib.pyplot as plt"
   ]
  },
  {
   "cell_type": "markdown",
   "metadata": {},
   "source": [
    "# Download and read in a DIANA Standard model\n",
    "\n",
    "For more details on DIANA and more DIANA standard models see https://dianaproject.wp.st-andrews.ac.uk/ and http://www-star.st-and.ac.uk/~pw31/DIANA/DIANAstandard/"
   ]
  },
  {
   "cell_type": "code",
   "execution_count": null,
   "metadata": {},
   "outputs": [],
   "source": [
    "# Download and extract the Model tarfile into a Directory ... this might take a while ... be patient\n",
    "target=\"DMTau\"\n",
    "modeltarfile=urllib.request.urlretrieve(\"http://www-star.st-and.ac.uk/~pw31/DIANA/DIANAstandard/\"+target+\"_ModelOutput.tgz\")[0]\n",
    "tarfile.open(modeltarfile).extractall(target)\n",
    "\n",
    "# now read the model data with prodimopy\n",
    "model=pread.read_prodimo(target)"
   ]
  },
  {
   "cell_type": "markdown",
   "metadata": {},
   "source": [
    "# Plot the data within the notebook"
   ]
  },
  {
   "cell_type": "code",
   "execution_count": null,
   "metadata": {},
   "outputs": [],
   "source": [
    "# load a nice stylesheet for plotting within the notebook\n",
    "plt.style.use([\"prodimo.mplstyle\",\"prodimonb.mplstyle\"])\n",
    "# Create a Plot oject for plotting directly to the notebook\n",
    "\n",
    "pp=pplot.Plot(None)\n",
    "\n",
    "fig=pp.plot_NH(model)\n",
    "# you can still save the figure to a pdf file if you want\n",
    "fig.savefig(\"plotNH.pdf\")"
   ]
  },
  {
   "cell_type": "code",
   "execution_count": null,
   "metadata": {},
   "outputs": [],
   "source": [
    "# and example contour plot\n",
    "fig=pp.plot_cont(model,model.rhog,label=r\"$\\mathrm{log\\,\\rho\\,[g cm^{-3}]}$\",zlim=[1.e-20,1.e-10],extend=\"both\")"
   ]
  },
  {
   "cell_type": "markdown",
   "metadata": {},
   "source": [
    "# Write a number of plots directly to a singl pdf file"
   ]
  },
  {
   "cell_type": "code",
   "execution_count": null,
   "metadata": {},
   "outputs": [],
   "source": [
    "# Put a couple of plots to a single pdf\n",
    "from matplotlib.backends.backend_pdf import PdfPages\n",
    "\n",
    "# switch back to style better suited for pdf\n",
    "plt.style.use(\"prodimo.mplstyle\")\n",
    "\n",
    "with PdfPages(target+\".pdf\") as pdf:\n",
    "    pp=pplot.Plot(pdf,title=model.name)\n",
    "      \n",
    "    # This plots the Stellar spectrum  \n",
    "    pp.plot_starspec(model,ylim=[1.e-1,1.e11])  \n",
    "    \n",
    "    if model.sed is not None: \n",
    "        pp.plot_sed(model)\n",
    "      \n",
    "    pp.plot_dust_opac(model,ylim=[1.e-1,None])\n",
    "      \n",
    "    pp.plot_NH(model)\n",
    "    \n",
    "    # here the default contour plots are used not very fancy currently. \n",
    "    # you can use latex for the labels!\n",
    "    # note most of the parameters are optional\n",
    "    pp.plot_cont(model, model.nHtot, r\"$\\mathrm{n_{<H>} [cm^{-3}]}$\")  \n",
    "  \n",
    "    pp.plot_cont(model, model.nHtot, r\"$\\mathrm{n_{<H>} [cm^{-3}]}$\",contour=True,zr=False,xlog=False,ylog=False,\n",
    "                   zlim=[1.e4,None], extend=\"both\")  \n",
    "    pp.plot_cont(model, model.rhod, r\"$\\mathsf{\\rho_{dust} [g\\;cm^{-3}]}$\",zr=True,xlog=True,ylog=False,\n",
    "                    zlim=[1.e-25,None],extend=\"both\")\n",
    "    pp.plot_cont(model, model.nd, r\"$\\mathrm{n_{dust} [cm^{-3}]}$\",contour=True,zr=True,xlog=True,ylog=False,\n",
    "                    zlim=[1.e-8,None],extend=\"both\")\n",
    "    \n",
    "    pp.plot_cont(model, model.tg, r\"$\\mathrm{T_{gas} [K]}$\",contour=True,\n",
    "                    zlim=[5,5000],extend=\"both\")\n",
    "\n",
    "    pp.plot_cont(model, model.tg, r\"$\\mathrm{T_{dust} [K]}$\",contour=True,\n",
    "                    zlim=[5,1500],extend=\"both\")\n",
    "    \n",
    "    # this plots the vertical abundances at different radii for different species\n",
    "    rs=[10]\n",
    "    species=[\"CO\",\"HCO+\",\"e-\",\"S+\"]\n",
    "    for r in rs:\n",
    "        pp.plot_abunvert(model, r, species,ylim=[3.e-15,3.e-3])\n",
    "      \n",
    "    # plots the average abundances of the above species as a function of radius\n",
    "    pp.plot_avgabun(model, species,ylim=[3.e-15,3.e-3])\n",
    "    \n",
    "    # contour plots for a couple of species\n",
    "    species=[\"CO\",\"H2O\",\"HCO+\",\"HN2+\"]\n",
    "    for spname in species:\n",
    "        pp.plot_abuncont(model, spname, zr=True,xlog=True,ylog=False, zlim=[1.e-4,3.e-15],extend=\"both\")\n",
    "  \n",
    "    pp.plot_line_origin(model,[[\"CO\",1300.0]],\n",
    "                        model.nmol[:,:,model.spnames[\"CO\"]],zlim=[1.e-3,1.e8],ylim=[None,0.5],\n",
    "                        extend=\"both\",showContOrigin=True)"
   ]
  },
  {
   "cell_type": "markdown",
   "metadata": {},
   "source": [
    "# Extract some data and put it into a file"
   ]
  },
  {
   "cell_type": "code",
   "execution_count": 51,
   "metadata": {},
   "outputs": [],
   "source": [
    "import numpy\n",
    "\n",
    "# get the dust temperature in the midplane\n",
    "tdust=model.td[:,0]\n",
    "# get the r coordinate in the midplane\n",
    "r=model.x[:,0]\n",
    "\n",
    "numpy.savetxt(target+\"tmid.txt\",numpy.column_stack((r,tdust)),header=\"midplane dust temperature as a function of radius\\n r [au] Tdust [K]\")"
   ]
  },
  {
   "cell_type": "code",
   "execution_count": null,
   "metadata": {},
   "outputs": [],
   "source": []
  }
 ],
 "metadata": {
  "kernelspec": {
   "display_name": "Python 3",
   "language": "python",
   "name": "python3"
  },
  "language_info": {
   "codemirror_mode": {
    "name": "ipython",
    "version": 3
   },
   "file_extension": ".py",
   "mimetype": "text/x-python",
   "name": "python",
   "nbconvert_exporter": "python",
   "pygments_lexer": "ipython3",
   "version": "3.6.4"
  }
 },
 "nbformat": 4,
 "nbformat_minor": 2
}
